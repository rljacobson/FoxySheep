{
 "cells": [
  {
   "cell_type": "code",
   "execution_count": 1,
   "metadata": {},
   "outputs": [],
   "source": [
    "import os\n",
    "import glob"
   ]
  },
  {
   "cell_type": "markdown",
   "metadata": {},
   "source": [
    "# Create Node Hierarchy"
   ]
  },
  {
   "cell_type": "code",
   "execution_count": 74,
   "metadata": {},
   "outputs": [],
   "source": [
    "root_path = '/Users/rljacobson/Google Drive/Development/Mathematica-IntelliJ-Plugin/src/de/halirutan/mathematica/lang/psi/api/'"
   ]
  },
  {
   "cell_type": "code",
   "execution_count": 75,
   "metadata": {},
   "outputs": [],
   "source": [
    "lst = glob.glob(root_path + '**/*.java', recursive=True)"
   ]
  },
  {
   "cell_type": "code",
   "execution_count": 77,
   "metadata": {
    "scrolled": true
   },
   "outputs": [],
   "source": [
    "# Cut off root_path and extension.\n",
    "def remove_ends(text, prefix, suffix):\n",
    "    if prefix:\n",
    "        if text.startswith(prefix):\n",
    "            text = text[len(prefix):]\n",
    "    if suffix:\n",
    "        if text.endswith(suffix):\n",
    "            text = text[:-len(suffix)]\n",
    "    return text\n",
    "\n",
    "lst = [remove_ends(t, root_path, '.java') for t in lst]\n"
   ]
  },
  {
   "cell_type": "code",
   "execution_count": 79,
   "metadata": {},
   "outputs": [],
   "source": [
    "removals = ['MathematicaPsiFile', \n",
    "            'OperatorNameProvider', \n",
    "            'graph/UndirectedEdge', \n",
    "            'StringifiedSymbol']\n",
    "for t in removals:\n",
    "    lst.remove(t)"
   ]
  },
  {
   "cell_type": "code",
   "execution_count": 81,
   "metadata": {},
   "outputs": [],
   "source": [
    "replacements = {'lists/MList': 'lists/List', 'string/MString': 'string/String'}\n",
    "\n",
    "for i, name in enumerate(lst):\n",
    "    if name in replacements:\n",
    "        lst[i] = replacements[name]"
   ]
  },
  {
   "cell_type": "code",
   "execution_count": 47,
   "metadata": {},
   "outputs": [],
   "source": [
    "dirs = set()\n",
    "file_list = []\n",
    "root_path = 'FoxySheep/AST/'\n",
    "\n",
    "current_dir = root_path\n",
    "\n",
    "for t in lst:\n",
    "    parts = t.split('/')\n",
    "    if len(parts) == 2:\n",
    "        d, f = parts\n",
    "        total_path = root_path + d\n",
    "        if total_path != current_dir:\n",
    "            dirs.add(d)\n",
    "            file_list.append((d, total_path + '/__init__.py'))\n",
    "            current_dir = total_path\n",
    "        file_list.append((d, '{rp}{f}Node.py'.format(rp=root_path, f=t)))\n",
    "    else:\n",
    "        file_list.append((None, '{rp}{f}Node.py'.format(rp=root_path, f=t)))"
   ]
  },
  {
   "cell_type": "code",
   "execution_count": 71,
   "metadata": {},
   "outputs": [
    {
     "name": "stdout",
     "output_type": "stream",
     "text": [
      "Done!\n"
     ]
    }
   ],
   "source": [
    "class_template = \"\"\"from AST import ASTNode\n",
    "\n",
    "\n",
    "class {name}(ASTNode):\n",
    "    pass\n",
    "\n",
    "\"\"\"\n",
    "\n",
    "AST_init_template = '\\nfrom .{module} import {name}'\n",
    "\n",
    "init_template = 'from .{name} import {name}\\n'\n",
    "\n",
    "AST_init_filename = 'FoxySheep/AST/__init__.py'\n",
    "\n",
    "current_dir = None\n",
    "current_py_init_file = AST_init_filename\n",
    "\n",
    "with open(AST_init_filename, 'a') as init_file:\n",
    "    current_py_init_file = None\n",
    "    \n",
    "    for (d, py_file_path) in file_list:\n",
    "        # Get the class name without path.\n",
    "        base_path, py_name = os.path.split(py_file_path)\n",
    "        py_name = py_name[:-3]\n",
    "        \n",
    "        # Create the subdirectory if it does not exist.\n",
    "        if current_dir != d:\n",
    "            # Create the sub\n",
    "            if not os.path.exists(base_path):\n",
    "                os.makedirs(base_path)\n",
    "                \n",
    "            # Close previous init file if exists.\n",
    "            if current_py_init_file and not current_py_init_file.closed:\n",
    "                current_py_init_file.close()\n",
    "                \n",
    "            # Delete the current init file if exists.\n",
    "            current_py_init_file_path = base_path + '/__init__.py'\n",
    "            try:\n",
    "                os.remove(current_py_init_file_path)\n",
    "            except OSError:\n",
    "                pass\n",
    "            # Create new init file.\n",
    "            current_py_init_file = open(current_py_init_file_path, 'w')\n",
    "            current_dir = d\n",
    "        \n",
    "        # Create/overwrite the file.\n",
    "        if py_name != '__init__':\n",
    "            # Create a new python file\n",
    "            with open(py_file_path, 'w') as py_file:\n",
    "                py_file.write(class_template.format(name=py_name))\n",
    "            # Append to init file.\n",
    "            if current_py_init_file:\n",
    "                current_py_init_file.write(init_template.format(name=py_name))\n",
    "            # Also append to AST init file.\n",
    "            if d is not None:\n",
    "                module = '{d}.{name}'.format(d=d, name=py_name)\n",
    "            else:\n",
    "                module = py_name\n",
    "            init_file.write(AST_init_template.format(module=module, name=py_name))\n",
    "        \n",
    "    # Close any open init files.\n",
    "    if current_py_init_file and not current_py_init_file.closed:\n",
    "        current_py_init_file.close()\n",
    "        \n",
    "    # Write a final newline at the end of the file.\n",
    "    init_file.write('\\n')\n",
    "print('Done!')"
   ]
  },
  {
   "cell_type": "code",
   "execution_count": 54,
   "metadata": {},
   "outputs": [
    {
     "data": {
      "text/plain": [
       "['./FoxySheep/AST/__init__.py',\n",
       " './FoxySheep/AST/ASTNode.py',\n",
       " './FoxySheep/AST/Functions.py']"
      ]
     },
     "execution_count": 54,
     "metadata": {},
     "output_type": "execute_result"
    }
   ],
   "source": [
    "glob.glob('./FoxySheep/AST/**/*.py', recursive=True)"
   ]
  },
  {
   "cell_type": "markdown",
   "metadata": {},
   "source": [
    "# Write __init__ function"
   ]
  },
  {
   "cell_type": "code",
   "execution_count": 2,
   "metadata": {},
   "outputs": [
    {
     "data": {
      "text/plain": [
       "[['identifier', 'str,'],\n",
       " ['own_values', 'list'],\n",
       " ['down_values', 'list'],\n",
       " ['up_values', 'list'],\n",
       " ['default_values', 'list'],\n",
       " ['options', 'set'],\n",
       " ['attributes', 'set'],\n",
       " ['messages', 'set']]"
      ]
     },
     "execution_count": 2,
     "metadata": {},
     "output_type": "execute_result"
    }
   ],
   "source": [
    "txt=\"\"\"identifier: str,\n",
    "                 own_values: list = None,\n",
    "                 down_values: list = None,\n",
    "                 up_values: list = None,\n",
    "                 default_values: list = None,\n",
    "                 options: set = None,\n",
    "                 attributes: set = None,\n",
    "                 messages: set = None\"\"\"\n",
    "lst = txt.split('\\n')\n",
    "lst = [t.strip() for t in lst]\n",
    "lst = [t.split(' =')[0] for t in lst]\n",
    "lst = [t.split(': ') for t in lst]\n",
    "lst"
   ]
  },
  {
   "cell_type": "code",
   "execution_count": 4,
   "metadata": {},
   "outputs": [
    {
     "name": "stdout",
     "output_type": "stream",
     "text": [
      "self._identifier \t= identifier\n",
      "self._own_values \t= own_values\n",
      "self._down_values \t= down_values\n",
      "self._up_values \t= up_values\n",
      "self._default_values \t= default_values\n",
      "self._options \t= options\n",
      "self._attributes \t= attributes\n",
      "self._messages \t= messages\n"
     ]
    }
   ],
   "source": [
    "init_txt = \"\"\"self._{name} \\t= {name}\"\"\"\n",
    "\n",
    "for name, typename in lst:\n",
    "    print(init_txt.format(name=name, typename=typename))"
   ]
  },
  {
   "cell_type": "code",
   "execution_count": null,
   "metadata": {},
   "outputs": [],
   "source": []
  }
 ],
 "metadata": {
  "kernelspec": {
   "display_name": "Python 3",
   "language": "python",
   "name": "python3"
  },
  "language_info": {
   "codemirror_mode": {
    "name": "ipython",
    "version": 3
   },
   "file_extension": ".py",
   "mimetype": "text/x-python",
   "name": "python",
   "nbconvert_exporter": "python",
   "pygments_lexer": "ipython3",
   "version": "3.6.4"
  }
 },
 "nbformat": 4,
 "nbformat_minor": 2
}
